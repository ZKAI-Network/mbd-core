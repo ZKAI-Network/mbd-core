{
 "cells": [
  {
   "cell_type": "code",
   "execution_count": 1,
   "id": "28d95674-72e4-427b-89c3-d8b798dcaef4",
   "metadata": {
    "tags": []
   },
   "outputs": [],
   "source": [
    "import os\n",
    "# get GCP key, console -> IAM -> services roles -> key -> add key -> generate json key\n",
    "os.environ[\"GOOGLE_APPLICATION_CREDENTIALS\"] = \"lens-indexer.json\" "
   ]
  },
  {
   "cell_type": "code",
   "execution_count": 2,
   "id": "a70cf0f4-f939-4495-9fb4-2e6aa80dc694",
   "metadata": {},
   "outputs": [
    {
     "data": {
      "text/plain": [
       "(285882, 18)"
      ]
     },
     "execution_count": 2,
     "metadata": {},
     "output_type": "execute_result"
    }
   ],
   "source": [
    "from google.cloud import bigquery\n",
    "\n",
    "# Initialize the BigQuery client\n",
    "client = bigquery.Client()\n",
    "\n",
    "# Define your SQL query, excluding the original 'metadata_json' and adding the transformed one\n",
    "query = \"\"\"\n",
    "SELECT \n",
    "    publication_id,\n",
    "    metadata_snapshot_location_url,\n",
    "    TO_JSON_STRING(metadata_json) AS metadata_json, \n",
    "    metadata_version,\n",
    "    content,\n",
    "    language,\n",
    "    region,\n",
    "    content_warning,\n",
    "    main_content_focus,\n",
    "    tags_vector,\n",
    "    hide_from_feed,\n",
    "    is_encrypted,\n",
    "    app,\n",
    "    tx_hash,\n",
    "    timestamp,\n",
    "    created_at,\n",
    "    datastream_metadata,\n",
    "    content_vector\n",
    "FROM \n",
    "    lens-public-data.v2_polygon.publication_metadata \n",
    "WHERE \n",
    "    `timestamp` >= \"2024-08-13 00:00:00 UTC\"\n",
    "\"\"\"\n",
    "\n",
    "# Run the query\n",
    "query_job = client.query(query)\n",
    "\n",
    "# Get the result and convert to a Pandas DataFrame\n",
    "df = query_job.to_dataframe()\n",
    "\n",
    "# Display the first few rows of the DataFrame\n",
    "df.shape"
   ]
  },
  {
   "cell_type": "code",
   "execution_count": 64,
   "id": "7de617f0-7226-482d-a044-9616788f61d5",
   "metadata": {
    "tags": []
   },
   "outputs": [
    {
     "data": {
      "text/plain": [
       "array(['3.0.0'], dtype=object)"
      ]
     },
     "execution_count": 64,
     "metadata": {},
     "output_type": "execute_result"
    }
   ],
   "source": [
    "df['metadata_version'].unique()"
   ]
  },
  {
   "cell_type": "code",
   "execution_count": 4,
   "id": "f22b83e6-29d6-4b2d-b068-0129c7f8d4e8",
   "metadata": {
    "tags": []
   },
   "outputs": [],
   "source": [
    "import json\n",
    "df[\"metadata_json\"] = df[\"metadata_json\"].apply(lambda x: json.loads(x))"
   ]
  },
  {
   "cell_type": "markdown",
   "id": "0e68109a-5900-4db0-aa64-7237194e9681",
   "metadata": {},
   "source": [
    "We can know:\n",
    "1. `main_content_focus` column is the same as `mainContentFocus` insides `metadata_json`\n",
    "2. `content` column is the same as `content` insides `metadata_json`, which is nullable.\n",
    "3. `languange` and `region` are derived from `locale` of `metadata_json`. but need to lower or upper all cases\n",
    "4. `content_warning` is derived from `contentWarning` in `metadata_json`.\n",
    "5. `tags_vector` is derived from `tags` in `metadata_json`.\n",
    "6. `hide_from_feed` is `hideFromFeed` in `metadata_json`.\n",
    "7. `is_encrypted` is based on whether `encryptedWith` exists in `metadata_json`\n",
    "8. `app` is based on `appId` in `metadata_json`, but need to lower cases\n",
    "9. `tx_hash` is NOT related to the `txHash` in `metadata_json` for TRANSACTION publication.\n",
    "10. `created_at` and `timestamp` are similar, and I can't derive it from `metadata_json`\n",
    "11. `datastream_metadata` not clear, and not relevent\n",
    "12. `content_vector` is all None"
   ]
  },
  {
   "cell_type": "code",
   "execution_count": 6,
   "id": "bdf82844-b734-4b76-9abc-591445e82d30",
   "metadata": {
    "tags": []
   },
   "outputs": [
    {
     "data": {
      "text/plain": [
       "True"
      ]
     },
     "execution_count": 6,
     "metadata": {},
     "output_type": "execute_result"
    }
   ],
   "source": [
    "(df['metadata_json'].apply(lambda x:x['lens']['mainContentFocus'])==df['main_content_focus']).all()"
   ]
  },
  {
   "cell_type": "code",
   "execution_count": 7,
   "id": "62fbeca3-8da5-4e62-9ae4-01a23e8d6289",
   "metadata": {
    "tags": []
   },
   "outputs": [],
   "source": [
    "content = df['metadata_json'].apply(lambda x:x['lens']['content'] if 'content' in x['lens'] else None)"
   ]
  },
  {
   "cell_type": "code",
   "execution_count": 10,
   "id": "d4979bdf-7f0d-451c-9296-328751bcdfe5",
   "metadata": {
    "tags": []
   },
   "outputs": [
    {
     "data": {
      "text/plain": [
       "array(['', '', 'So many to choose from ', ..., ' ',\n",
       "       'ObscuredLanes\\n\\nWent to hike up a lake in Austria (Drachensee), but the dense fog had other plans - ended up shooting moody fotos all along of everything but the lake 🤷😄\\n\\n\\n1/1\\n\\n#FotoRaws\\n\\n\\n\\n\\n',\n",
       "       'Understand the reality behind crypto and blockchain for a clearer perspective.\\n@lens/bajaj @lens/adani @lens/learner1994 @lens/rokky @lens/jocky @lens/simitej '],\n",
       "      dtype=object)"
      ]
     },
     "execution_count": 10,
     "metadata": {},
     "output_type": "execute_result"
    }
   ],
   "source": [
    "content[df['content']!=content].values"
   ]
  },
  {
   "cell_type": "code",
   "execution_count": 11,
   "id": "a53188a9-cbd2-4fde-ac2d-4f4fbeed0e54",
   "metadata": {
    "tags": []
   },
   "outputs": [
    {
     "data": {
      "text/plain": [
       "array([None, None, 'So many to choose from', ..., None,\n",
       "       'ObscuredLanes\\n\\nWent to hike up a lake in Austria (Drachensee), but the dense fog had other plans - ended up shooting moody fotos all along of everything but the lake 🤷😄\\n\\n\\n1/1\\n\\n#FotoRaws',\n",
       "       'Understand the reality behind crypto and blockchain for a clearer perspective.\\n@lens/bajaj @lens/adani @lens/learner1994 @lens/rokky @lens/jocky @lens/simitej'],\n",
       "      dtype=object)"
      ]
     },
     "execution_count": 11,
     "metadata": {},
     "output_type": "execute_result"
    }
   ],
   "source": [
    "df[df['content']!=content]['content'].values"
   ]
  },
  {
   "cell_type": "code",
   "execution_count": 20,
   "id": "b5ec6618-4742-4dc2-88ef-c8cdefaa35c3",
   "metadata": {
    "tags": []
   },
   "outputs": [],
   "source": [
    "locale=df['metadata_json'].apply(lambda x:x['lens']['locale'])"
   ]
  },
  {
   "cell_type": "code",
   "execution_count": 23,
   "id": "a210cbb8-4b3a-4aa7-9387-df3ac59203c9",
   "metadata": {
    "tags": []
   },
   "outputs": [],
   "source": [
    "lang = locale.apply(lambda x:x.split('-')[0])\n",
    "region = locale.apply(lambda x:x.split('-')[1] if len(x.split('-'))>1 else None)"
   ]
  },
  {
   "cell_type": "code",
   "execution_count": 42,
   "id": "cbb71ad6-a83d-4d3f-8013-a5024b0b7468",
   "metadata": {
    "tags": []
   },
   "outputs": [
    {
     "data": {
      "text/plain": [
       "array(['en', 'zh', 'es', 'et', 'ja', 'ru', 'pt', 'th', 'ko', 'tr', 'vi',\n",
       "       'id', 'om', 'ku', 'uk', 'ga', 'lv', 'cs', 'it', 'sv', 'pl', 'ro',\n",
       "       'fa', 'nl', 'el', 'de', 'xh', 'no', 'so', 'is', 'sl', 'tl', 'sw',\n",
       "       'fr', 'mo', 'eo', 'yo', 'cy', 'lt', 'bn', 'hi', 'fi', 'qu', 'da',\n",
       "       'jv', 'ts', 'bs', 'lb', 'su', 'hu', 'bg', 'be', 'lg', 'ht', 'af',\n",
       "       'eu', 'sn', 'ms', 'ca', 'mg', 'ta', 'mt', 'lo', 'sq', 'hr', 'az',\n",
       "       'tn', 'ar', 'gl', 'uz', 'ha', 'ne', 'hy', 'ur', 'gd', 'la', 'zu',\n",
       "       'sk', 'tk', 'cv', 'mn', 'sd', 'he', 'kk', 'ml', 'km', 'my', 'mk',\n",
       "       'sr'], dtype=object)"
      ]
     },
     "execution_count": 42,
     "metadata": {},
     "output_type": "execute_result"
    }
   ],
   "source": [
    "lang.unique()"
   ]
  },
  {
   "cell_type": "code",
   "execution_count": 43,
   "id": "5faa3869-b517-4629-b29b-7019886aa8f1",
   "metadata": {
    "tags": []
   },
   "outputs": [
    {
     "data": {
      "text/plain": [
       "array([None, 'US', 'GB', 'CN', 'RU', 'DE', 'IN', 'AU'], dtype=object)"
      ]
     },
     "execution_count": 43,
     "metadata": {},
     "output_type": "execute_result"
    }
   ],
   "source": [
    "region.unique()"
   ]
  },
  {
   "cell_type": "code",
   "execution_count": 44,
   "id": "1d3c1e56-7e1c-4f00-8b92-150e7dc977be",
   "metadata": {
    "tags": []
   },
   "outputs": [
    {
     "data": {
      "text/plain": [
       "(array([None, 'US', 'us', 'GB', 'cn', 'CN', 'ru', 'de', 'RU', 'IN', 'au',\n",
       "        'gb'], dtype=object),\n",
       " array(['en', 'zh', 'es', 'et', 'ja', 'ru', 'pt', 'th', 'ko', 'tr', 'vi',\n",
       "        'id', 'om', 'ku', 'uk', 'ga', 'lv', 'cs', 'it', 'sv', 'pl', 'ro',\n",
       "        'fa', 'nl', 'el', 'de', 'xh', 'no', 'so', 'is', 'sl', 'tl', 'sw',\n",
       "        'fr', 'mo', 'eo', 'yo', 'cy', 'lt', 'bn', 'hi', 'fi', 'qu', 'da',\n",
       "        'jv', 'ts', 'bs', 'lb', 'su', 'hu', 'bg', 'be', 'lg', 'ht', 'af',\n",
       "        'eu', 'sn', 'ms', 'ca', 'mg', 'ta', 'mt', 'lo', 'sq', 'hr', 'az',\n",
       "        'tn', 'ar', 'gl', 'uz', 'ha', 'ne', 'hy', 'ur', 'gd', 'la', 'zu',\n",
       "        'sk', 'tk', 'cv', 'mn', 'sd', 'he', 'kk', 'ml', 'km', 'my', 'mk',\n",
       "        'sr'], dtype=object))"
      ]
     },
     "execution_count": 44,
     "metadata": {},
     "output_type": "execute_result"
    }
   ],
   "source": [
    "df['region'].unique(),df['language'].unique()"
   ]
  },
  {
   "cell_type": "code",
   "execution_count": 63,
   "id": "35c55035-1214-4104-a118-788fd2f4183b",
   "metadata": {
    "tags": []
   },
   "outputs": [
    {
     "data": {
      "text/plain": [
       "True"
      ]
     },
     "execution_count": 63,
     "metadata": {},
     "output_type": "execute_result"
    }
   ],
   "source": [
    "df['content_warning'].equals(df['metadata_json'].apply(lambda x:x['lens']['contentWarning'] if 'contentWarning' in x['lens'] else None))"
   ]
  },
  {
   "cell_type": "code",
   "execution_count": 70,
   "id": "16635403-b14a-4708-b753-fb404238e559",
   "metadata": {
    "tags": []
   },
   "outputs": [
    {
     "data": {
      "text/plain": [
       "12                              [yup]\n",
       "17                                 []\n",
       "18                                 []\n",
       "19                                 []\n",
       "20                                 []\n",
       "                     ...             \n",
       "285845                             []\n",
       "285849    [orbcommunitiesphotography]\n",
       "285850           [orbcommunitieslens]\n",
       "285864                             []\n",
       "285865                             []\n",
       "Name: metadata_json, Length: 45316, dtype: object"
      ]
     },
     "execution_count": 70,
     "metadata": {},
     "output_type": "execute_result"
    }
   ],
   "source": [
    "df['metadata_json'].apply(lambda x:x['lens']['tags'] if 'tags' in x['lens'] else None)[\n",
    "    df['metadata_json'].apply(lambda x:x['lens']['tags'] if 'tags' in x['lens'] else None).notna()]"
   ]
  },
  {
   "cell_type": "code",
   "execution_count": 67,
   "id": "b57e5c1f-14d6-43b6-af8b-fb5712c2e197",
   "metadata": {
    "collapsed": true,
    "jupyter": {
     "outputs_hidden": true
    },
    "tags": []
   },
   "outputs": [
    {
     "data": {
      "text/plain": [
       "array([None, \"'yup'\", '', \"'text'\", \"'orbcommunitiesorb'\",\n",
       "       \"'orbcommunitieswalk'\", \"'orbcommunitiesfuckurjpeg'\",\n",
       "       \"'orbcommunitiesmemes'\", \"'orbcommunitiesfood'\",\n",
       "       \"'orbcommunitiesbonsai'\", \"'orbcommunitiesisoh'\",\n",
       "       \"'orbcommunitieslenscuba'\", \"'orbcommunitiesbuy'\", \"'people'\",\n",
       "       \"'channel-buttrfly'\", \"'orbcommunitiessupermush'\",\n",
       "       \"'orbcommunitiessaythanks'\", \"'orbcommunitieszospours'\", \"'pets'\",\n",
       "       \"'orbcommunitiespets'\", \"'orbcommunitiesart'\",\n",
       "       \"'orbcommunitiesmonniverse'\", \"'orbcommunitieslens'\",\n",
       "       \"'orbcommunitiesmusic'\", \"'orbcommunitieslensrunningclub'\",\n",
       "       \"'orbcommunitiesnyc'\", \"'podcast'\", \"'orbcommunitiesallships'\",\n",
       "       \"'orbcommunitiessitio'\", \"'orbcommunitieswac'\",\n",
       "       \"'orbcommunitiesartistsbyrefraction'\",\n",
       "       \"'orbcommunitiesmentalhealth'\", \"'orbcommunitiestravel'\",\n",
       "       \"'orbcommunitiescollectable'\", \"'orbcommunitiestouchgrass'\",\n",
       "       \"'orbcommunitiesanime'\", \"'orbcommunitiesentrylevel'\",\n",
       "       \"'orbcommunitiesfinance'\", \"'orbcommunitiesairdrop'\",\n",
       "       \"'orbcommunitiesdata_analysts'\", \"'orbcommunitiesspicytakes'\",\n",
       "       \"'orbcommunitieshyefa'\", \"'orbcommunitiesweed'\",\n",
       "       \"'orbcommunities3dart'\", \"'orbcommunitiesdefi'\",\n",
       "       \"'orbcommunitiesproofofvibes'\", \"'orbcommunitiespointless'\",\n",
       "       \"'orbcommunitiesdigital'\", \"'orbcommunitiesphotography'\",\n",
       "       \"'orbcommunitiesminimalism'\", \"'orbcommunitiesfashion'\",\n",
       "       \"'orbcommunitiesblackspaceagency'\",\n",
       "       \"'channel-pointless' 'orbcommunitiespointless'\",\n",
       "       \"'orbcommunitiesshefi'\", \"'orbcommunitiesmetaverse'\",\n",
       "       \"'orbcommunitiesbooks'\", \"'orbcommunitiesfounders'\",\n",
       "       \"'orbcommunitiesnftclub'\", \"'heyclubslens' 'orbcommunitieslens'\",\n",
       "       \"'orbcommunitiestvfilms'\", \"'orbcommunitieskawaiiskull'\",\n",
       "       \"'orbcommunitiespixelart'\", \"'orbcommunitiestokyoclub'\",\n",
       "       \"'orbcommunitiesraave'\", \"'orbcommunitiesnoteligible'\",\n",
       "       \"'heyclubsbuy' 'orbcommunitiesbuy'\", \"'orbcommunitiesgambling'\",\n",
       "       \"'orbcommunitiescoffee'\", \"'orbcommunitieshanddrawn'\",\n",
       "       \"'orbcommunitiesdankcabal'\", \"'orbcommunitiesmusicai'\",\n",
       "       \"'orbcommunities-t2/bonsai' 'orbcommunities-t2/post'\",\n",
       "       \"'orbcommunitiesvisualartists'\", \"'orbcommunitiesthankful'\",\n",
       "       \"'orbcommunitiesai'\", \"'orbcommunitiestrading'\",\n",
       "       \"'orbcommunitiesglitchart'\",\n",
       "       \"'metaverse' 'orbcommunitiesmetaverse'\", \"'orbcommunitiescontext'\",\n",
       "       \"'heyclubscontext' 'orbcommunitiescontext'\", \"'orbcommunitiesahm'\",\n",
       "       \"'heyclubsorb' 'orbcommunitiesorb'\", \"'orbcommunitiesgirlmath'\",\n",
       "       \"'orbcommunitiesjessyfries'\", \"'orbcommunitiesdogs'\",\n",
       "       \"'orbcommunitiestash55'\", \"'orbcommunitiespurrcat'\",\n",
       "       \"'orbcommunitieslsdreams'\", \"'orbcommunitiestiktoktrends'\",\n",
       "       \"'orbcommunitiesluckystar'\", \"'orbcommunitiesconsumercrypto'\",\n",
       "       \"'dd472d3370b389eb8399ea7c795ca9e76ff0d4d7'\",\n",
       "       \"'orbcommunitiesvinylandmusic'\",\n",
       "       \"'0f89daeb0a63c7b73224315c5514c21ba0453985' '1c5e2a7f174e40885e5be99baf6608a0965995ce'\",\n",
       "       \"'orbcommunities-t2/amigos' 'orbcommunities-t2/post'\",\n",
       "       \"'orbcommunitiesfilms'\", \"'orbcommunitiespolskikluborb'\",\n",
       "       \"'orbcommunitiescafevinyl'\", \"'orbcommunitiesjapanese'\",\n",
       "       \"'heyclubsvinylandmusic' 'orbcommunitiesvinylandmusic'\",\n",
       "       \"'orbcommunitieselectronic'\",\n",
       "       \"'418f361f5cdc602c856956bf752c06a29c52e54a' '73e04f51493c4910e59ce2d748ae71bffe3267a3'\",\n",
       "       \"'0f89daeb0a63c7b73224315c5514c21ba0453985' '39d45d455f68e41f0deb42a0037973a6dff216ff' 'wataburger' 'wataburger.in'\",\n",
       "       \"'1c5e2a7f174e40885e5be99baf6608a0965995ce' '418f361f5cdc602c856956bf752c06a29c52e54a'\",\n",
       "       \"'orbcommunitiesbonsaiboys'\", \"'orbcommunitiesenespanol'\",\n",
       "       \"'banned' 'emancipate' 'emancipation' 'freedom' 'iran' 'life' 'persia' 'women' 'ypj'\",\n",
       "       \"'Blockchain Development' 'Design' 'Marketing' 'job'\",\n",
       "       \"'Admin Support' 'Community Building' 'Security & Auditing' 'service'\",\n",
       "       \"'Admin Support' 'Community Building' 'Security & Auditing' 'job'\",\n",
       "       \"'lens' 'orbcommunitieslens'\",\n",
       "       \"'Admin Support' 'Community Building' 'Customer Service' 'service'\",\n",
       "       \"'npcStudio'\", \"'orbcommunitiesproducers'\",\n",
       "       \"'orbcommunitiescryptogirls'\", \"'orbcommunitiespeanuts'\",\n",
       "       \"'orbcommunitiesgaming'\", \"'orbcommunitieswriters'\",\n",
       "       \"'orbcommunitiesghostgang'\",\n",
       "       \"'clip-b0gie' 'podcast' 'sessionId-700714fd-4861-4c0e-a701-50e238b1d7dc'\",\n",
       "       \"'crypto'\", \"'orbcommunitiesskincare'\", \"'orbcommunitiesbeerclub'\",\n",
       "       \"'orbcommunitiesgoblinmode'\", \"'orbcommunities0xdads'\",\n",
       "       \"'orbcommunitiesjadic'\", \"'orbcommunitiesdevelopers'\",\n",
       "       \"'orbcommunitiesshitposting'\", \"'orbcommunitiesjustchaos'\",\n",
       "       \"'orbcommunitieszk'\", \"'orbcommunitiesevangelion'\",\n",
       "       \"'orbcommunitiesphilosophy'\", \"'orbcommunitiessecurity'\",\n",
       "       \"'orbcommunitiesinfinati'\", \"'orbcommunitiesexistence'\",\n",
       "       \"'orbcommunitieselectricfilm'\", \"'orbcommunitiesethcc'\",\n",
       "       \"'channel-justchaos' 'orbcommunitiesjustchaos'\",\n",
       "       \"'heyclubsart' 'orbcommunitiesart'\",\n",
       "       \"'heyclubsartistsbyrefraction' 'orbcommunitiesartistsbyrefraction'\",\n",
       "       \"'orbcommunitiesgm'\", \"'orbcommunitiesdailyquotes'\",\n",
       "       \"'orbcommunitiesolympics'\", \"'orbcommunitiesskull'\",\n",
       "       \"'orbcommunitiesbonsaigirls'\", \"'orbcommunitiespodcastrecs'\",\n",
       "       \"'orbcommunitiesfitness'\", \"'orbcommunitiestherapy'\",\n",
       "       \"'orbcommunitiesjew'\", \"'orbcommunitiesstreetart'\",\n",
       "       \"'orbcommunitieslips'\",\n",
       "       \"'heyclubsentrylevel' 'orbcommunitiesentrylevel'\",\n",
       "       \"'orbcommunitiespolymarket'\", \"'orbcommunitiesdegen'\",\n",
       "       \"'orbcommunitiesgoodread'\", \"'orbcommunitiesdata'\",\n",
       "       \"'orbcommunitiesclubs'\", \"'orbcommunitiesgitcoin'\",\n",
       "       \"'orbcommunitiesmetalheads'\",\n",
       "       \"'channel-photography' 'orbcommunitiesphotography'\",\n",
       "       \"'channel-memes' 'meme' 'memes'\", \"'orbcommunitiesmiami'\",\n",
       "       \"'orbcommunitiesmusiclovers'\", \"'orbcommunitiesnsfw'\",\n",
       "       \"'orbcommunitieswipflow'\",\n",
       "       \"'0f89daeb0a63c7b73224315c5514c21ba0453985' '73e04f51493c4910e59ce2d748ae71bffe3267a3'\",\n",
       "       \"'gaming' 'orbcommunitiesgaming'\", \"'orbcommunitiesarchitecture'\",\n",
       "       \"'orbcommunitiesprosperity'\", \"'music'\", \"'orbcommunitieswavwrld'\",\n",
       "       \"'orbcommunitiesnature'\", \"'orbcommunitiesavclub'\",\n",
       "       \"'bonsai.town' 'changelog'\", \"'orbcommunitiesmifella'\",\n",
       "       \"'orbcommunities-t2/gonzo' 'orbcommunities-t2/prompt'\",\n",
       "       \"'channel-bonsai' 'orbcommunitiesbonsai'\",\n",
       "       \"'orbcommunitiesnervous'\", \"'orbcommunitiestipworthy'\",\n",
       "       \"'orbcommunitiesgr8fuldead'\", \"'orbcommunitiesgalverse'\",\n",
       "       \"'orbcommunitieskdramas'\", \"'orbcommunitiesgardening'\",\n",
       "       \"'orbcommunitiesgentlemenofbonsai'\", \"'orbcommunitiesphaver'\",\n",
       "       \"'orbcommunitiesuncensorable'\", \"'howto'\",\n",
       "       \"'orbcommunitiesfreemintclub'\",\n",
       "       \"'orbcommunities-t2/airdrops' 'orbcommunities-t2/post'\",\n",
       "       \"'orbcommunities-t2/airdrops' 'orbcommunities-t2/prompt'\",\n",
       "       \"'channel-gm' 'orbcommunitiesgm'\", \"'orbcommunitiesinstrumentals'\",\n",
       "       \"'orbcommunitiesbuild'\",\n",
       "       \"'orbcommunities-t2/prompt' 'orbcommunities-t2/ttrpg'\",\n",
       "       \"'orbcommunitiesnewhere'\", \"'orbcommunitieswrestling'\",\n",
       "       \"'orbcommunitiesimaginary'\", \"'orbcommunitieselectronicmusic'\",\n",
       "       \"'orbcommunitiesgalerieyechelange'\",\n",
       "       \"'orbcommunities-t2/post' 'orbcommunities-t2/web-3'\",\n",
       "       \"'Blockchain Development' 'Design' 'Programming & Development' 'job'\",\n",
       "       \"'orbcommunitiesswifties'\", \"'orbcommunitiescats'\",\n",
       "       \"'gaming' 'orbcommunitiesbonsai' 'orbcommunitiesgaming'\",\n",
       "       \"'orbcommunitiescryptoplaza'\", \"'orbcommunitiescheems'\",\n",
       "       \"'orbcommunities-t2/poesia' 'orbcommunities-t2/post'\",\n",
       "       \"'orbcommunitiespopscience'\", \"'orbcommunitiesdesign'\",\n",
       "       \"'orbcommunitiesfilmphotography'\", \"'agencia de llms' 'npcStudio'\",\n",
       "       \"'npcStudio' 'ático de intercambio de varianza'\",\n",
       "       \"'estudio abierto de trabajo' 'npcStudio'\",\n",
       "       \"'c/lens' 'channel-lens' 'community-lens' 'lens' 'orbcommunitieslens'\",\n",
       "       \"'orbcommunitieshiphop'\",\n",
       "       \"'chain:1' 'txn:2aRVBgAUCKC6Bg/TCDKcCiNxn7829Obg0kz8tgOGonQ='\",\n",
       "       \"'vehicles'\", \"'education'\",\n",
       "       \"'Blockchain Development' 'Design' 'Programming & Development' 'service'\",\n",
       "       \"'heyclubsmemes' 'orbcommunitiesmemes'\", \"'orbcommunitiesbeaches'\",\n",
       "       \"'orbcommunitiesdailyphotography'\", \"'orbcommunitiesnostalgia'\",\n",
       "       \"'orbcommunitiessaltines'\", \"'orbcommunitiesdragverse'\",\n",
       "       \"'orbcommunitieslondon'\",\n",
       "       \"'heyclubscryptoplaza' 'orbcommunitiescryptoplaza'\",\n",
       "       \"'orbcommunitiespiano'\", \"'orbcommunitiestouchsand'\",\n",
       "       \"'txn:2aRVBgAUCKC6Bg/TCDKcCiNxn7829Obg0kz8tgOGonQ='\",\n",
       "       \"'interests'\", \"'orbcommunitiesstarfire'\",\n",
       "       \"'channel-dankcabal' 'orbcommunitiesdankcabal'\",\n",
       "       \"'orbcommunitiesrawcreative'\",\n",
       "       \"'channel-sitio' 'orbcommunitiessitio'\",\n",
       "       \"'orbcommunities-t2/onchain-travels' 'orbcommunities-t2/prompt'\",\n",
       "       \"'orbcommunitiesvancouver'\", \"'orbcommunitiesinfiltrators'\",\n",
       "       \"'orbcommunitiesfrensandart'\", \"'orbcommunitiespraguers'\",\n",
       "       \"'orbcommunitiesohnahji'\",\n",
       "       \"'heyclubstrading' 'orbcommunitiestrading'\",\n",
       "       \"'orbcommunitiesentheogen'\",\n",
       "       \"'orbcommunities-t2/friends-who-write' 'orbcommunities-t2/post'\",\n",
       "       \"'orbcommunities-t2/friends-who-write' 'orbcommunities-t2/prompt'\",\n",
       "       \"'channel-music' 'orbcommunitiesmusic' 'orbcommunitiesvinylandmusic'\",\n",
       "       \"'orbcommunitiesnomad'\", \"'orbcommunitieszeriondnaholders'\",\n",
       "       \"'orbcommunitiesradio'\", \"'orbcommunitiespilipinas'\",\n",
       "       \"'orbcommunitieshorror'\", \"'orbcommunitiesneovim'\",\n",
       "       \"'metaverse' 'orbcommunitiesbonsai' 'orbcommunitiesmetaverse'\",\n",
       "       \"'clip-b0gie' 'metaverse' 'orbcommunitiesmetaverse' 'sessionId-4059f5ab-5d6e-45db-8d1f-59776e121704'\",\n",
       "       \"'channel-food' 'orbcommunitiesWhatsCooking' 'orbcommunitiesfood'\",\n",
       "       \"'orbcommunitiesgenre'\",\n",
       "       \"'channel-spicytakes' 'orbcommunitiesspicytakes'\",\n",
       "       \"'orbcommunitiesdance'\", \"'orbcommunitiesthedailypost'\",\n",
       "       \"'orbcommunitieslegendofzelda'\",\n",
       "       \"'channel-anime' 'gatedorbcommunitiesAnime' 'orbcommunitiesAnime'\",\n",
       "       \"'channel-legendofzelda' 'orbcommunitieslegendofzelda'\",\n",
       "       \"'orbcommunitiesprivacy'\", \"'orbcommunitieslisbon'\",\n",
       "       \"'orbcommunitiesbebrilliant'\", \"'orbcommunitiesgenalphawtf'\",\n",
       "       \"'orbcommunitiestalent'\", \"'orbcommunitiesopentowork'\"],\n",
       "      dtype=object)"
      ]
     },
     "execution_count": 67,
     "metadata": {},
     "output_type": "execute_result"
    }
   ],
   "source": [
    "df['tags_vector'].unique()"
   ]
  },
  {
   "cell_type": "code",
   "execution_count": 71,
   "id": "d0eff355-9564-4dee-96ae-e47d2ddafd3f",
   "metadata": {
    "tags": []
   },
   "outputs": [
    {
     "data": {
      "text/plain": [
       "0         False\n",
       "1         False\n",
       "2         False\n",
       "3         False\n",
       "4         False\n",
       "          ...  \n",
       "285877    False\n",
       "285878    False\n",
       "285879    False\n",
       "285880    False\n",
       "285881    False\n",
       "Name: hide_from_feed, Length: 285882, dtype: boolean"
      ]
     },
     "execution_count": 71,
     "metadata": {},
     "output_type": "execute_result"
    }
   ],
   "source": [
    "df['hide_from_feed']"
   ]
  },
  {
   "cell_type": "code",
   "execution_count": 72,
   "id": "288404de-ce2d-4031-a0d0-5c82f4edf47a",
   "metadata": {
    "tags": []
   },
   "outputs": [
    {
     "data": {
      "text/plain": [
       "0         False\n",
       "1         False\n",
       "2         False\n",
       "3         False\n",
       "4         False\n",
       "          ...  \n",
       "285877    False\n",
       "285878    False\n",
       "285879    False\n",
       "285880    False\n",
       "285881    False\n",
       "Name: is_encrypted, Length: 285882, dtype: boolean"
      ]
     },
     "execution_count": 72,
     "metadata": {},
     "output_type": "execute_result"
    }
   ],
   "source": [
    "df['is_encrypted']"
   ]
  },
  {
   "cell_type": "code",
   "execution_count": 76,
   "id": "0d98540a-1351-4a6f-91dd-4268ab7b0f6b",
   "metadata": {
    "tags": []
   },
   "outputs": [],
   "source": [
    "encryptedWith = df['metadata_json'].apply(lambda x: True if 'encryptedWith' in x['lens'] else False)"
   ]
  },
  {
   "cell_type": "code",
   "execution_count": 84,
   "id": "4e0f5966-bb46-47a1-9ee3-1de09ce76b3b",
   "metadata": {
    "tags": []
   },
   "outputs": [
    {
     "data": {
      "text/plain": [
       "Index([ 81359,  93344,  93429,  98619,  98622, 113708, 126665, 126688, 126861,\n",
       "       195018, 195024, 207601, 208033, 208106, 208517, 208725, 218837, 219482,\n",
       "       272701, 272703, 272706, 272709, 272711, 272712, 272714, 272715, 272717,\n",
       "       272718, 272721, 272723, 272725, 272726, 272727, 272728, 272730, 272732,\n",
       "       272733, 272735, 272736, 272738, 272745, 272746, 272747, 274168, 274181,\n",
       "       274191, 274207, 274216, 274255, 274256, 281577, 282840],\n",
       "      dtype='int64')"
      ]
     },
     "execution_count": 84,
     "metadata": {},
     "output_type": "execute_result"
    }
   ],
   "source": [
    "encryptedWith[encryptedWith==True].index"
   ]
  },
  {
   "cell_type": "code",
   "execution_count": 87,
   "id": "391b2a01-2223-4f16-8e7c-caf3a7357f6f",
   "metadata": {
    "tags": []
   },
   "outputs": [
    {
     "data": {
      "text/plain": [
       "True"
      ]
     },
     "execution_count": 87,
     "metadata": {},
     "output_type": "execute_result"
    }
   ],
   "source": [
    "(df['is_encrypted']==encryptedWith).all()"
   ]
  },
  {
   "cell_type": "code",
   "execution_count": 83,
   "id": "94362a0e-83b1-44d8-8a07-2acad329bb83",
   "metadata": {
    "tags": []
   },
   "outputs": [
    {
     "data": {
      "text/plain": [
       "array([False,  True])"
      ]
     },
     "execution_count": 83,
     "metadata": {},
     "output_type": "execute_result"
    }
   ],
   "source": [
    "encryptedWith"
   ]
  },
  {
   "cell_type": "code",
   "execution_count": 94,
   "id": "c2a65328-bf31-4923-9dcc-57e6b903afef",
   "metadata": {
    "tags": []
   },
   "outputs": [
    {
     "data": {
      "text/plain": [
       "0         phaver\n",
       "1         phaver\n",
       "2         phaver\n",
       "3         phaver\n",
       "4         phaver\n",
       "           ...  \n",
       "285877    phaver\n",
       "285878    phaver\n",
       "285879    phaver\n",
       "285880    phaver\n",
       "285881    phaver\n",
       "Name: app, Length: 285882, dtype: object"
      ]
     },
     "execution_count": 94,
     "metadata": {},
     "output_type": "execute_result"
    }
   ],
   "source": [
    "df['app']"
   ]
  },
  {
   "cell_type": "code",
   "execution_count": 96,
   "id": "35a2386e-eba7-424b-85ac-226b86243b36",
   "metadata": {
    "tags": []
   },
   "outputs": [
    {
     "data": {
      "text/plain": [
       "0         phaver\n",
       "1         phaver\n",
       "2         phaver\n",
       "3         phaver\n",
       "4         phaver\n",
       "           ...  \n",
       "285877    phaver\n",
       "285878    phaver\n",
       "285879    phaver\n",
       "285880    phaver\n",
       "285881    phaver\n",
       "Name: metadata_json, Length: 285882, dtype: object"
      ]
     },
     "execution_count": 96,
     "metadata": {},
     "output_type": "execute_result"
    }
   ],
   "source": [
    "appId = df['metadata_json'].apply(lambda x: x['lens']['appId'] if 'appId' in x['lens'] else None)\n",
    "appId"
   ]
  },
  {
   "cell_type": "code",
   "execution_count": 98,
   "id": "d09a240d-06fa-4772-933e-a77a9a9faf16",
   "metadata": {
    "tags": []
   },
   "outputs": [
    {
     "data": {
      "text/plain": [
       "13             Hey\n",
       "14             Hey\n",
       "15             Hey\n",
       "16             Hey\n",
       "23        Orna.art\n",
       "            ...   \n",
       "285846    Buttrfly\n",
       "285847    Buttrfly\n",
       "285848         Hey\n",
       "285862    Buttrfly\n",
       "285863    Buttrfly\n",
       "Name: metadata_json, Length: 131899, dtype: object"
      ]
     },
     "execution_count": 98,
     "metadata": {},
     "output_type": "execute_result"
    }
   ],
   "source": [
    "appId[appId!=df['app']]"
   ]
  },
  {
   "cell_type": "code",
   "execution_count": 101,
   "id": "bcf85dc7-8206-413d-8ff2-71ffe1ebc33f",
   "metadata": {
    "tags": []
   },
   "outputs": [
    {
     "data": {
      "text/plain": [
       "13             hey\n",
       "14             hey\n",
       "15             hey\n",
       "16             hey\n",
       "23        orna.art\n",
       "            ...   \n",
       "285846    buttrfly\n",
       "285847    buttrfly\n",
       "285848         hey\n",
       "285862    buttrfly\n",
       "285863    buttrfly\n",
       "Name: app, Length: 131899, dtype: object"
      ]
     },
     "execution_count": 101,
     "metadata": {},
     "output_type": "execute_result"
    }
   ],
   "source": [
    "df[df['app']!=appId]['app']"
   ]
  },
  {
   "cell_type": "code",
   "execution_count": 111,
   "id": "aa3a86e7-b9a2-4629-b34f-d320f81ea545",
   "metadata": {
    "tags": []
   },
   "outputs": [
    {
     "data": {
      "text/plain": [
       "False"
      ]
     },
     "execution_count": 111,
     "metadata": {},
     "output_type": "execute_result"
    }
   ],
   "source": [
    "df['tx_hash'].equals(df['metadata_json'].apply(lambda x: x['lens']['txHash'] if 'txHash' in x['lens'] else None))"
   ]
  },
  {
   "cell_type": "code",
   "execution_count": 109,
   "id": "979e0891-dc1f-4cef-8b7b-0dbfada5f3a8",
   "metadata": {
    "tags": []
   },
   "outputs": [
    {
     "data": {
      "text/plain": [
       "array([None,\n",
       "       '0x50c6384d9140682b5e5f882e877d2197a3ed0b83e61f438252bbdd9bc419a668',\n",
       "       '0x6fe3d687c549120341dd16bce70d87f9846d87e7c5fdff46e3451ae754c73723',\n",
       "       ...,\n",
       "       '0x18a24151b3ee633579ac311bf53cfad29d7360e9eb7dcdb9b6eb97d246d07296',\n",
       "       '0x081dd6d0c9a7b96755f13c052d9e690c8073ee316e8926983dc63b71e15b432a',\n",
       "       '0xf33612807ae4cb1bcaf74fd77b559051e05229eeaf565b608cd9249c923358fb'],\n",
       "      dtype=object)"
      ]
     },
     "execution_count": 109,
     "metadata": {},
     "output_type": "execute_result"
    }
   ],
   "source": [
    "df['tx_hash'].unique()"
   ]
  },
  {
   "cell_type": "code",
   "execution_count": 112,
   "id": "247e5cb0-bf16-4a09-90d5-6fc008625885",
   "metadata": {
    "tags": []
   },
   "outputs": [
    {
     "data": {
      "text/plain": [
       "array([None,\n",
       "       '0xd9a45506001408a0ba060fd308329c0a23719fbf36f4e6e0d24cfcb60386a274',\n",
       "       '0xfb21055b8b7c7df00d22d26dab1ce39efd757ebf387c9c2fe40ca10ff9b3f4ed'],\n",
       "      dtype=object)"
      ]
     },
     "execution_count": 112,
     "metadata": {},
     "output_type": "execute_result"
    }
   ],
   "source": [
    "df['metadata_json'].apply(lambda x: x['lens']['txHash'] if 'txHash' in x['lens'] else None).unique()"
   ]
  },
  {
   "cell_type": "code",
   "execution_count": 131,
   "id": "be828b89-984b-4935-8715-3bb63e7c9c91",
   "metadata": {
    "tags": []
   },
   "outputs": [],
   "source": [
    "txHash=df['metadata_json'].apply(lambda x: x['lens']['txHash'] if 'txHash' in x['lens'] else None)"
   ]
  },
  {
   "cell_type": "code",
   "execution_count": 135,
   "id": "5069165b-dc76-43b5-b9a6-2d17014ca316",
   "metadata": {
    "tags": []
   },
   "outputs": [
    {
     "data": {
      "text/plain": [
       "array([None,\n",
       "       '0xd9a45506001408a0ba060fd308329c0a23719fbf36f4e6e0d24cfcb60386a274',\n",
       "       '0xfb21055b8b7c7df00d22d26dab1ce39efd757ebf387c9c2fe40ca10ff9b3f4ed'],\n",
       "      dtype=object)"
      ]
     },
     "execution_count": 135,
     "metadata": {},
     "output_type": "execute_result"
    }
   ],
   "source": [
    "txHash.unique()"
   ]
  },
  {
   "cell_type": "code",
   "execution_count": 147,
   "id": "8aad1865-24f9-4318-9897-02c9b5571406",
   "metadata": {
    "tags": []
   },
   "outputs": [
    {
     "data": {
      "text/plain": [
       "array([dict_keys(['appId', 'content', 'id', 'image', 'locale', 'mainContentFocus', 'tags']),\n",
       "       dict_keys(['appId', 'attachments', 'content', 'hideFromFeed', 'id', 'image', 'locale', 'mainContentFocus', 'title']),\n",
       "       dict_keys(['appId', 'attachments', 'content', 'hideFromFeed', 'id', 'image', 'locale', 'mainContentFocus', 'title']),\n",
       "       ...,\n",
       "       dict_keys(['appId', 'content', 'id', 'locale', 'mainContentFocus', 'tags']),\n",
       "       dict_keys(['appId', 'content', 'id', 'locale', 'mainContentFocus']),\n",
       "       dict_keys(['appId', 'content', 'id', 'locale', 'mainContentFocus', 'tags'])],\n",
       "      dtype=object)"
      ]
     },
     "execution_count": 147,
     "metadata": {},
     "output_type": "execute_result"
    }
   ],
   "source": [
    "df[df['tx_hash'].notna()]['metadata_json'].apply(lambda x:x['lens'].keys()).values"
   ]
  },
  {
   "cell_type": "code",
   "execution_count": 149,
   "id": "b8d8cb41-d01c-4d26-a13d-d7f96b0b98b5",
   "metadata": {
    "tags": []
   },
   "outputs": [
    {
     "data": {
      "text/html": [
       "<div>\n",
       "<style scoped>\n",
       "    .dataframe tbody tr th:only-of-type {\n",
       "        vertical-align: middle;\n",
       "    }\n",
       "\n",
       "    .dataframe tbody tr th {\n",
       "        vertical-align: top;\n",
       "    }\n",
       "\n",
       "    .dataframe thead th {\n",
       "        text-align: right;\n",
       "    }\n",
       "</style>\n",
       "<table border=\"1\" class=\"dataframe\">\n",
       "  <thead>\n",
       "    <tr style=\"text-align: right;\">\n",
       "      <th></th>\n",
       "      <th>publication_id</th>\n",
       "      <th>metadata_snapshot_location_url</th>\n",
       "      <th>metadata_json</th>\n",
       "      <th>metadata_version</th>\n",
       "      <th>content</th>\n",
       "      <th>language</th>\n",
       "      <th>region</th>\n",
       "      <th>content_warning</th>\n",
       "      <th>main_content_focus</th>\n",
       "      <th>tags_vector</th>\n",
       "      <th>hide_from_feed</th>\n",
       "      <th>is_encrypted</th>\n",
       "      <th>app</th>\n",
       "      <th>tx_hash</th>\n",
       "      <th>timestamp</th>\n",
       "      <th>created_at</th>\n",
       "      <th>datastream_metadata</th>\n",
       "      <th>content_vector</th>\n",
       "    </tr>\n",
       "  </thead>\n",
       "  <tbody>\n",
       "    <tr>\n",
       "      <th>193100</th>\n",
       "      <td>0x0788f7-0x02-DA-f8d04a7c</td>\n",
       "      <td>https://statics-v2.lens.dev/public/0x0788f7-0x...</td>\n",
       "      <td>{'$schema': 'https://json-schemas.lens.dev/pub...</td>\n",
       "      <td>3.0.0</td>\n",
       "      <td>Test</td>\n",
       "      <td>en</td>\n",
       "      <td>None</td>\n",
       "      <td>None</td>\n",
       "      <td>TRANSACTION</td>\n",
       "      <td>'chain:1' 'txn:2aRVBgAUCKC6Bg/TCDKcCiNxn7829Ob...</td>\n",
       "      <td>False</td>\n",
       "      <td>False</td>\n",
       "      <td>pob-studio</td>\n",
       "      <td>None</td>\n",
       "      <td>2024-08-21 06:00:36+00:00</td>\n",
       "      <td>2024-08-21 06:00:39.018626+00:00</td>\n",
       "      <td>{'uuid': '589ac02d-b8a4-4ca3-adbf-dfce00000011...</td>\n",
       "      <td>None</td>\n",
       "    </tr>\n",
       "    <tr>\n",
       "      <th>193101</th>\n",
       "      <td>0x0788f7-0x02-DA-3ac515ed</td>\n",
       "      <td>https://statics-v2.lens.dev/public/0x0788f7-0x...</td>\n",
       "      <td>{'$schema': 'https://json-schemas.lens.dev/pub...</td>\n",
       "      <td>3.0.0</td>\n",
       "      <td>Test</td>\n",
       "      <td>en</td>\n",
       "      <td>None</td>\n",
       "      <td>None</td>\n",
       "      <td>TRANSACTION</td>\n",
       "      <td>'chain:1' 'txn:2aRVBgAUCKC6Bg/TCDKcCiNxn7829Ob...</td>\n",
       "      <td>False</td>\n",
       "      <td>False</td>\n",
       "      <td>pob-studio</td>\n",
       "      <td>None</td>\n",
       "      <td>2024-08-21 06:12:50+00:00</td>\n",
       "      <td>2024-08-21 06:12:53.383297+00:00</td>\n",
       "      <td>{'uuid': '1992afa4-e68a-47cc-ac1d-07df10100101...</td>\n",
       "      <td>None</td>\n",
       "    </tr>\n",
       "    <tr>\n",
       "      <th>193102</th>\n",
       "      <td>0x0788f7-0x02-DA-d784d5ff</td>\n",
       "      <td>https://statics-v2.lens.dev/public/0x0788f7-0x...</td>\n",
       "      <td>{'$schema': 'https://json-schemas.lens.dev/pub...</td>\n",
       "      <td>3.0.0</td>\n",
       "      <td>Test</td>\n",
       "      <td>en</td>\n",
       "      <td>None</td>\n",
       "      <td>None</td>\n",
       "      <td>TRANSACTION</td>\n",
       "      <td>'chain:1' 'txn:2aRVBgAUCKC6Bg/TCDKcCiNxn7829Ob...</td>\n",
       "      <td>False</td>\n",
       "      <td>False</td>\n",
       "      <td>pob-studio</td>\n",
       "      <td>None</td>\n",
       "      <td>2024-08-21 06:15:38+00:00</td>\n",
       "      <td>2024-08-21 06:15:40.974033+00:00</td>\n",
       "      <td>{'uuid': 'a6efa70e-496d-421f-8b73-2c3000101010...</td>\n",
       "      <td>None</td>\n",
       "    </tr>\n",
       "    <tr>\n",
       "      <th>193103</th>\n",
       "      <td>0x0788f7-0x02-DA-ac15802c</td>\n",
       "      <td>https://statics-v2.lens.dev/public/0x0788f7-0x...</td>\n",
       "      <td>{'$schema': 'https://json-schemas.lens.dev/pub...</td>\n",
       "      <td>3.0.0</td>\n",
       "      <td>Test</td>\n",
       "      <td>en</td>\n",
       "      <td>None</td>\n",
       "      <td>None</td>\n",
       "      <td>TRANSACTION</td>\n",
       "      <td>'chain:1' 'txn:2aRVBgAUCKC6Bg/TCDKcCiNxn7829Ob...</td>\n",
       "      <td>False</td>\n",
       "      <td>False</td>\n",
       "      <td>pob-studio</td>\n",
       "      <td>None</td>\n",
       "      <td>2024-08-21 06:17:20+00:00</td>\n",
       "      <td>2024-08-21 06:17:22.883425+00:00</td>\n",
       "      <td>{'uuid': 'cee1a9d3-494f-42bf-ad51-5aad00001000...</td>\n",
       "      <td>None</td>\n",
       "    </tr>\n",
       "    <tr>\n",
       "      <th>193104</th>\n",
       "      <td>0x0788f7-0x02-DA-dccf0041</td>\n",
       "      <td>https://statics-v2.lens.dev/public/0x0788f7-0x...</td>\n",
       "      <td>{'$schema': 'https://json-schemas.lens.dev/pub...</td>\n",
       "      <td>3.0.0</td>\n",
       "      <td>Test</td>\n",
       "      <td>en</td>\n",
       "      <td>None</td>\n",
       "      <td>None</td>\n",
       "      <td>TRANSACTION</td>\n",
       "      <td>'chain:1' 'txn:2aRVBgAUCKC6Bg/TCDKcCiNxn7829Ob...</td>\n",
       "      <td>False</td>\n",
       "      <td>False</td>\n",
       "      <td>pob-studio</td>\n",
       "      <td>None</td>\n",
       "      <td>2024-08-21 06:26:40+00:00</td>\n",
       "      <td>2024-08-21 06:26:42.906013+00:00</td>\n",
       "      <td>{'uuid': 'a858356f-f3b0-4db1-84ba-0fa111110010...</td>\n",
       "      <td>None</td>\n",
       "    </tr>\n",
       "    <tr>\n",
       "      <th>193105</th>\n",
       "      <td>0x0788f7-0x02-DA-e285db39</td>\n",
       "      <td>https://statics-v2.lens.dev/public/0x0788f7-0x...</td>\n",
       "      <td>{'$schema': 'https://json-schemas.lens.dev/pub...</td>\n",
       "      <td>3.0.0</td>\n",
       "      <td>Test</td>\n",
       "      <td>en</td>\n",
       "      <td>None</td>\n",
       "      <td>None</td>\n",
       "      <td>TRANSACTION</td>\n",
       "      <td>'chain:1' 'txn:2aRVBgAUCKC6Bg/TCDKcCiNxn7829Ob...</td>\n",
       "      <td>False</td>\n",
       "      <td>False</td>\n",
       "      <td>pob-studio</td>\n",
       "      <td>None</td>\n",
       "      <td>2024-08-21 06:15:06+00:00</td>\n",
       "      <td>2024-08-21 06:15:07.680407+00:00</td>\n",
       "      <td>{'uuid': 'd72fac5d-5dab-4f24-87d4-466901100110...</td>\n",
       "      <td>None</td>\n",
       "    </tr>\n",
       "    <tr>\n",
       "      <th>193106</th>\n",
       "      <td>0x0788f7-0x02-DA-cfede4d6</td>\n",
       "      <td>https://statics-v2.lens.dev/public/0x0788f7-0x...</td>\n",
       "      <td>{'$schema': 'https://json-schemas.lens.dev/pub...</td>\n",
       "      <td>3.0.0</td>\n",
       "      <td>Test</td>\n",
       "      <td>en</td>\n",
       "      <td>None</td>\n",
       "      <td>None</td>\n",
       "      <td>TRANSACTION</td>\n",
       "      <td>'chain:1' 'txn:2aRVBgAUCKC6Bg/TCDKcCiNxn7829Ob...</td>\n",
       "      <td>False</td>\n",
       "      <td>False</td>\n",
       "      <td>pob-studio</td>\n",
       "      <td>None</td>\n",
       "      <td>2024-08-21 06:29:40+00:00</td>\n",
       "      <td>2024-08-21 06:29:43.181826+00:00</td>\n",
       "      <td>{'uuid': '53e77545-8976-4fe1-affc-c44011111110...</td>\n",
       "      <td>None</td>\n",
       "    </tr>\n",
       "    <tr>\n",
       "      <th>193107</th>\n",
       "      <td>0x0788f7-0x02-DA-73f29da5</td>\n",
       "      <td>https://statics-v2.lens.dev/public/0x0788f7-0x...</td>\n",
       "      <td>{'$schema': 'https://json-schemas.lens.dev/pub...</td>\n",
       "      <td>3.0.0</td>\n",
       "      <td>Test</td>\n",
       "      <td>en</td>\n",
       "      <td>None</td>\n",
       "      <td>None</td>\n",
       "      <td>TRANSACTION</td>\n",
       "      <td>None</td>\n",
       "      <td>False</td>\n",
       "      <td>False</td>\n",
       "      <td>pob-studio</td>\n",
       "      <td>None</td>\n",
       "      <td>2024-08-19 01:44:30+00:00</td>\n",
       "      <td>2024-08-19 01:44:31.938946+00:00</td>\n",
       "      <td>{'uuid': '137009a7-cc9b-4b3d-a580-ddc811001101...</td>\n",
       "      <td>None</td>\n",
       "    </tr>\n",
       "    <tr>\n",
       "      <th>193108</th>\n",
       "      <td>0x0788f7-0x02-DA-a4ac46a7</td>\n",
       "      <td>https://statics-v2.lens.dev/public/0x0788f7-0x...</td>\n",
       "      <td>{'$schema': 'https://json-schemas.lens.dev/pub...</td>\n",
       "      <td>3.0.0</td>\n",
       "      <td>Wut</td>\n",
       "      <td>en</td>\n",
       "      <td>None</td>\n",
       "      <td>None</td>\n",
       "      <td>TRANSACTION</td>\n",
       "      <td>'chain:1' 'txn:2aRVBgAUCKC6Bg/TCDKcCiNxn7829Ob...</td>\n",
       "      <td>False</td>\n",
       "      <td>False</td>\n",
       "      <td>pob-studio</td>\n",
       "      <td>None</td>\n",
       "      <td>2024-08-20 21:08:26+00:00</td>\n",
       "      <td>2024-08-20 21:08:27.577426+00:00</td>\n",
       "      <td>{'uuid': 'd626ad6e-17f1-4451-89d9-fc5501100111...</td>\n",
       "      <td>None</td>\n",
       "    </tr>\n",
       "    <tr>\n",
       "      <th>193109</th>\n",
       "      <td>0x0788f7-0x02-DA-fba6a8ee</td>\n",
       "      <td>https://statics-v2.lens.dev/public/0x0788f7-0x...</td>\n",
       "      <td>{'$schema': 'https://json-schemas.lens.dev/pub...</td>\n",
       "      <td>3.0.0</td>\n",
       "      <td>Test[⁽¹⁾](https://example.com)</td>\n",
       "      <td>en</td>\n",
       "      <td>None</td>\n",
       "      <td>None</td>\n",
       "      <td>TRANSACTION</td>\n",
       "      <td>'chain:1' 'txn:2aRVBgAUCKC6Bg/TCDKcCiNxn7829Ob...</td>\n",
       "      <td>False</td>\n",
       "      <td>False</td>\n",
       "      <td>pob-studio</td>\n",
       "      <td>None</td>\n",
       "      <td>2024-08-19 20:28:17+00:00</td>\n",
       "      <td>2024-08-19 20:28:20.338186+00:00</td>\n",
       "      <td>{'uuid': '0e68e792-6ed0-41f1-b6f2-621b01100111...</td>\n",
       "      <td>None</td>\n",
       "    </tr>\n",
       "    <tr>\n",
       "      <th>193110</th>\n",
       "      <td>0x0788f7-0x02-DA-2e5e3ec6</td>\n",
       "      <td>https://statics-v2.lens.dev/public/0x0788f7-0x...</td>\n",
       "      <td>{'$schema': 'https://json-schemas.lens.dev/pub...</td>\n",
       "      <td>3.0.0</td>\n",
       "      <td>Test</td>\n",
       "      <td>en</td>\n",
       "      <td>None</td>\n",
       "      <td>None</td>\n",
       "      <td>TRANSACTION</td>\n",
       "      <td>'chain:1' 'txn:2aRVBgAUCKC6Bg/TCDKcCiNxn7829Ob...</td>\n",
       "      <td>False</td>\n",
       "      <td>False</td>\n",
       "      <td>pob-studio</td>\n",
       "      <td>None</td>\n",
       "      <td>2024-08-21 06:14:04+00:00</td>\n",
       "      <td>2024-08-21 06:14:06.257487+00:00</td>\n",
       "      <td>{'uuid': '625688ec-3738-4cd3-b92b-ca0d00110100...</td>\n",
       "      <td>None</td>\n",
       "    </tr>\n",
       "    <tr>\n",
       "      <th>193111</th>\n",
       "      <td>0x0788f7-0x02-DA-539fdd69</td>\n",
       "      <td>https://statics-v2.lens.dev/public/0x0788f7-0x...</td>\n",
       "      <td>{'$schema': 'https://json-schemas.lens.dev/pub...</td>\n",
       "      <td>3.0.0</td>\n",
       "      <td>Hello World![⁽¹⁾](https://example.com)</td>\n",
       "      <td>en</td>\n",
       "      <td>None</td>\n",
       "      <td>None</td>\n",
       "      <td>TRANSACTION</td>\n",
       "      <td>'chain:1' 'txn:2aRVBgAUCKC6Bg/TCDKcCiNxn7829Ob...</td>\n",
       "      <td>False</td>\n",
       "      <td>False</td>\n",
       "      <td>pob-studio</td>\n",
       "      <td>None</td>\n",
       "      <td>2024-08-19 21:05:37+00:00</td>\n",
       "      <td>2024-08-19 21:05:39.501079+00:00</td>\n",
       "      <td>{'uuid': '09119820-279d-4553-b4c7-444510011101...</td>\n",
       "      <td>None</td>\n",
       "    </tr>\n",
       "    <tr>\n",
       "      <th>193112</th>\n",
       "      <td>0x0788f7-0x02-DA-716b68bb</td>\n",
       "      <td>https://statics-v2.lens.dev/public/0x0788f7-0x...</td>\n",
       "      <td>{'$schema': 'https://json-schemas.lens.dev/pub...</td>\n",
       "      <td>3.0.0</td>\n",
       "      <td>Hello World!</td>\n",
       "      <td>en</td>\n",
       "      <td>None</td>\n",
       "      <td>None</td>\n",
       "      <td>TRANSACTION</td>\n",
       "      <td>'chain:1' 'txn:2aRVBgAUCKC6Bg/TCDKcCiNxn7829Ob...</td>\n",
       "      <td>False</td>\n",
       "      <td>False</td>\n",
       "      <td>pob-studio</td>\n",
       "      <td>None</td>\n",
       "      <td>2024-08-19 18:02:17+00:00</td>\n",
       "      <td>2024-08-19 18:02:19.583804+00:00</td>\n",
       "      <td>{'uuid': 'c6b0dd0d-cec1-4796-b257-b8c701101110...</td>\n",
       "      <td>None</td>\n",
       "    </tr>\n",
       "    <tr>\n",
       "      <th>193113</th>\n",
       "      <td>0x0788f7-0x02-DA-dc8be8c9</td>\n",
       "      <td>https://statics-v2.lens.dev/public/0x0788f7-0x...</td>\n",
       "      <td>{'$schema': 'https://json-schemas.lens.dev/pub...</td>\n",
       "      <td>3.0.0</td>\n",
       "      <td>Test</td>\n",
       "      <td>en</td>\n",
       "      <td>None</td>\n",
       "      <td>None</td>\n",
       "      <td>TRANSACTION</td>\n",
       "      <td>'chain:1' 'txn:2aRVBgAUCKC6Bg/TCDKcCiNxn7829Ob...</td>\n",
       "      <td>False</td>\n",
       "      <td>False</td>\n",
       "      <td>pob-studio</td>\n",
       "      <td>None</td>\n",
       "      <td>2024-08-21 06:06:04+00:00</td>\n",
       "      <td>2024-08-21 06:06:05.548520+00:00</td>\n",
       "      <td>{'uuid': '57c6c9b5-a7e8-4c00-99f7-446501001111...</td>\n",
       "      <td>None</td>\n",
       "    </tr>\n",
       "    <tr>\n",
       "      <th>193114</th>\n",
       "      <td>0x0788f7-0x02-DA-9e089da9</td>\n",
       "      <td>https://statics-v2.lens.dev/public/0x0788f7-0x...</td>\n",
       "      <td>{'$schema': 'https://json-schemas.lens.dev/pub...</td>\n",
       "      <td>3.0.0</td>\n",
       "      <td>Test</td>\n",
       "      <td>en</td>\n",
       "      <td>None</td>\n",
       "      <td>None</td>\n",
       "      <td>TRANSACTION</td>\n",
       "      <td>None</td>\n",
       "      <td>False</td>\n",
       "      <td>False</td>\n",
       "      <td>pob-studio</td>\n",
       "      <td>None</td>\n",
       "      <td>2024-08-19 01:42:10+00:00</td>\n",
       "      <td>2024-08-19 01:42:11.971316+00:00</td>\n",
       "      <td>{'uuid': '49b7ef4a-2e30-4503-8c28-af2010000010...</td>\n",
       "      <td>None</td>\n",
       "    </tr>\n",
       "    <tr>\n",
       "      <th>199767</th>\n",
       "      <td>0x07ad5e-0x01-DA-cae5869a</td>\n",
       "      <td>https://statics-v2.lens.dev/public/0x07ad5e-0x...</td>\n",
       "      <td>{'$schema': 'https://json-schemas.lens.dev/pub...</td>\n",
       "      <td>3.0.0</td>\n",
       "      <td>Hello!</td>\n",
       "      <td>en</td>\n",
       "      <td>None</td>\n",
       "      <td>None</td>\n",
       "      <td>TRANSACTION</td>\n",
       "      <td>'chain:1' 'txn:2aRVBgAUCKC6Bg/TCDKcCiNxn7829Ob...</td>\n",
       "      <td>False</td>\n",
       "      <td>False</td>\n",
       "      <td>pob-studio</td>\n",
       "      <td>None</td>\n",
       "      <td>2024-08-20 20:25:57+00:00</td>\n",
       "      <td>2024-08-20 20:26:00.364515+00:00</td>\n",
       "      <td>{'uuid': 'd575e70f-a350-4cee-96d5-80d611111000...</td>\n",
       "      <td>None</td>\n",
       "    </tr>\n",
       "    <tr>\n",
       "      <th>199768</th>\n",
       "      <td>0x07ad5e-0x01-DA-e78bde9e</td>\n",
       "      <td>https://statics-v2.lens.dev/public/0x07ad5e-0x...</td>\n",
       "      <td>{'$schema': 'https://json-schemas.lens.dev/pub...</td>\n",
       "      <td>3.0.0</td>\n",
       "      <td>Testing</td>\n",
       "      <td>en</td>\n",
       "      <td>None</td>\n",
       "      <td>None</td>\n",
       "      <td>TRANSACTION</td>\n",
       "      <td>None</td>\n",
       "      <td>False</td>\n",
       "      <td>False</td>\n",
       "      <td>pob-studio</td>\n",
       "      <td>None</td>\n",
       "      <td>2024-08-19 01:49:52+00:00</td>\n",
       "      <td>2024-08-19 01:49:54.872170+00:00</td>\n",
       "      <td>{'uuid': 'ba4a1cd5-4e3e-46f1-98b6-605000011000...</td>\n",
       "      <td>None</td>\n",
       "    </tr>\n",
       "    <tr>\n",
       "      <th>199769</th>\n",
       "      <td>0x07ad5e-0x01-DA-3f4f9a92</td>\n",
       "      <td>https://statics-v2.lens.dev/public/0x07ad5e-0x...</td>\n",
       "      <td>{'$schema': 'https://json-schemas.lens.dev/pub...</td>\n",
       "      <td>3.0.0</td>\n",
       "      <td>Hello World!</td>\n",
       "      <td>en</td>\n",
       "      <td>None</td>\n",
       "      <td>None</td>\n",
       "      <td>TRANSACTION</td>\n",
       "      <td>None</td>\n",
       "      <td>False</td>\n",
       "      <td>False</td>\n",
       "      <td>pob-studio</td>\n",
       "      <td>None</td>\n",
       "      <td>2024-08-19 17:16:26+00:00</td>\n",
       "      <td>2024-08-19 17:16:27.653530+00:00</td>\n",
       "      <td>{'uuid': 'aa9855f5-4bdc-4b0d-91cc-b8ed11011010...</td>\n",
       "      <td>None</td>\n",
       "    </tr>\n",
       "    <tr>\n",
       "      <th>199770</th>\n",
       "      <td>0x07ad5d-0x01-DA-4e428e80</td>\n",
       "      <td>https://statics-v2.lens.dev/public/0x07ad5d-0x...</td>\n",
       "      <td>{'$schema': 'https://json-schemas.lens.dev/pub...</td>\n",
       "      <td>3.0.0</td>\n",
       "      <td>Helloa</td>\n",
       "      <td>en</td>\n",
       "      <td>None</td>\n",
       "      <td>None</td>\n",
       "      <td>TRANSACTION</td>\n",
       "      <td>'chain:1' 'txn:2aRVBgAUCKC6Bg/TCDKcCiNxn7829Ob...</td>\n",
       "      <td>False</td>\n",
       "      <td>False</td>\n",
       "      <td>pob-studio</td>\n",
       "      <td>None</td>\n",
       "      <td>2024-08-20 23:43:22+00:00</td>\n",
       "      <td>2024-08-20 23:43:24.987997+00:00</td>\n",
       "      <td>{'uuid': '71495b32-3416-4fbd-86cd-879200010100...</td>\n",
       "      <td>None</td>\n",
       "    </tr>\n",
       "    <tr>\n",
       "      <th>199771</th>\n",
       "      <td>0x07ad5e-0x01-DA-a3a93711</td>\n",
       "      <td>https://statics-v2.lens.dev/public/0x07ad5e-0x...</td>\n",
       "      <td>{'$schema': 'https://json-schemas.lens.dev/pub...</td>\n",
       "      <td>3.0.0</td>\n",
       "      <td>Heck</td>\n",
       "      <td>en</td>\n",
       "      <td>None</td>\n",
       "      <td>None</td>\n",
       "      <td>TRANSACTION</td>\n",
       "      <td>'txn:2aRVBgAUCKC6Bg/TCDKcCiNxn7829Obg0kz8tgOGo...</td>\n",
       "      <td>False</td>\n",
       "      <td>False</td>\n",
       "      <td>pob-studio</td>\n",
       "      <td>None</td>\n",
       "      <td>2024-08-19 17:35:33+00:00</td>\n",
       "      <td>2024-08-19 17:35:35.108922+00:00</td>\n",
       "      <td>{'uuid': '86a00e86-b081-45f1-bfbe-fca611000001...</td>\n",
       "      <td>None</td>\n",
       "    </tr>\n",
       "    <tr>\n",
       "      <th>199772</th>\n",
       "      <td>0x07ad5e-0x01-DA-144d54a5</td>\n",
       "      <td>https://statics-v2.lens.dev/public/0x07ad5e-0x...</td>\n",
       "      <td>{'$schema': 'https://json-schemas.lens.dev/pub...</td>\n",
       "      <td>3.0.0</td>\n",
       "      <td>asdf</td>\n",
       "      <td>en</td>\n",
       "      <td>None</td>\n",
       "      <td>None</td>\n",
       "      <td>TRANSACTION</td>\n",
       "      <td>None</td>\n",
       "      <td>False</td>\n",
       "      <td>False</td>\n",
       "      <td>pob-studio</td>\n",
       "      <td>None</td>\n",
       "      <td>2024-08-19 01:54:04+00:00</td>\n",
       "      <td>2024-08-19 01:54:07.123723+00:00</td>\n",
       "      <td>{'uuid': '94654ad7-8b07-45ec-b6b2-483111110001...</td>\n",
       "      <td>None</td>\n",
       "    </tr>\n",
       "  </tbody>\n",
       "</table>\n",
       "</div>"
      ],
      "text/plain": [
       "                   publication_id  \\\n",
       "193100  0x0788f7-0x02-DA-f8d04a7c   \n",
       "193101  0x0788f7-0x02-DA-3ac515ed   \n",
       "193102  0x0788f7-0x02-DA-d784d5ff   \n",
       "193103  0x0788f7-0x02-DA-ac15802c   \n",
       "193104  0x0788f7-0x02-DA-dccf0041   \n",
       "193105  0x0788f7-0x02-DA-e285db39   \n",
       "193106  0x0788f7-0x02-DA-cfede4d6   \n",
       "193107  0x0788f7-0x02-DA-73f29da5   \n",
       "193108  0x0788f7-0x02-DA-a4ac46a7   \n",
       "193109  0x0788f7-0x02-DA-fba6a8ee   \n",
       "193110  0x0788f7-0x02-DA-2e5e3ec6   \n",
       "193111  0x0788f7-0x02-DA-539fdd69   \n",
       "193112  0x0788f7-0x02-DA-716b68bb   \n",
       "193113  0x0788f7-0x02-DA-dc8be8c9   \n",
       "193114  0x0788f7-0x02-DA-9e089da9   \n",
       "199767  0x07ad5e-0x01-DA-cae5869a   \n",
       "199768  0x07ad5e-0x01-DA-e78bde9e   \n",
       "199769  0x07ad5e-0x01-DA-3f4f9a92   \n",
       "199770  0x07ad5d-0x01-DA-4e428e80   \n",
       "199771  0x07ad5e-0x01-DA-a3a93711   \n",
       "199772  0x07ad5e-0x01-DA-144d54a5   \n",
       "\n",
       "                           metadata_snapshot_location_url  \\\n",
       "193100  https://statics-v2.lens.dev/public/0x0788f7-0x...   \n",
       "193101  https://statics-v2.lens.dev/public/0x0788f7-0x...   \n",
       "193102  https://statics-v2.lens.dev/public/0x0788f7-0x...   \n",
       "193103  https://statics-v2.lens.dev/public/0x0788f7-0x...   \n",
       "193104  https://statics-v2.lens.dev/public/0x0788f7-0x...   \n",
       "193105  https://statics-v2.lens.dev/public/0x0788f7-0x...   \n",
       "193106  https://statics-v2.lens.dev/public/0x0788f7-0x...   \n",
       "193107  https://statics-v2.lens.dev/public/0x0788f7-0x...   \n",
       "193108  https://statics-v2.lens.dev/public/0x0788f7-0x...   \n",
       "193109  https://statics-v2.lens.dev/public/0x0788f7-0x...   \n",
       "193110  https://statics-v2.lens.dev/public/0x0788f7-0x...   \n",
       "193111  https://statics-v2.lens.dev/public/0x0788f7-0x...   \n",
       "193112  https://statics-v2.lens.dev/public/0x0788f7-0x...   \n",
       "193113  https://statics-v2.lens.dev/public/0x0788f7-0x...   \n",
       "193114  https://statics-v2.lens.dev/public/0x0788f7-0x...   \n",
       "199767  https://statics-v2.lens.dev/public/0x07ad5e-0x...   \n",
       "199768  https://statics-v2.lens.dev/public/0x07ad5e-0x...   \n",
       "199769  https://statics-v2.lens.dev/public/0x07ad5e-0x...   \n",
       "199770  https://statics-v2.lens.dev/public/0x07ad5d-0x...   \n",
       "199771  https://statics-v2.lens.dev/public/0x07ad5e-0x...   \n",
       "199772  https://statics-v2.lens.dev/public/0x07ad5e-0x...   \n",
       "\n",
       "                                            metadata_json metadata_version  \\\n",
       "193100  {'$schema': 'https://json-schemas.lens.dev/pub...            3.0.0   \n",
       "193101  {'$schema': 'https://json-schemas.lens.dev/pub...            3.0.0   \n",
       "193102  {'$schema': 'https://json-schemas.lens.dev/pub...            3.0.0   \n",
       "193103  {'$schema': 'https://json-schemas.lens.dev/pub...            3.0.0   \n",
       "193104  {'$schema': 'https://json-schemas.lens.dev/pub...            3.0.0   \n",
       "193105  {'$schema': 'https://json-schemas.lens.dev/pub...            3.0.0   \n",
       "193106  {'$schema': 'https://json-schemas.lens.dev/pub...            3.0.0   \n",
       "193107  {'$schema': 'https://json-schemas.lens.dev/pub...            3.0.0   \n",
       "193108  {'$schema': 'https://json-schemas.lens.dev/pub...            3.0.0   \n",
       "193109  {'$schema': 'https://json-schemas.lens.dev/pub...            3.0.0   \n",
       "193110  {'$schema': 'https://json-schemas.lens.dev/pub...            3.0.0   \n",
       "193111  {'$schema': 'https://json-schemas.lens.dev/pub...            3.0.0   \n",
       "193112  {'$schema': 'https://json-schemas.lens.dev/pub...            3.0.0   \n",
       "193113  {'$schema': 'https://json-schemas.lens.dev/pub...            3.0.0   \n",
       "193114  {'$schema': 'https://json-schemas.lens.dev/pub...            3.0.0   \n",
       "199767  {'$schema': 'https://json-schemas.lens.dev/pub...            3.0.0   \n",
       "199768  {'$schema': 'https://json-schemas.lens.dev/pub...            3.0.0   \n",
       "199769  {'$schema': 'https://json-schemas.lens.dev/pub...            3.0.0   \n",
       "199770  {'$schema': 'https://json-schemas.lens.dev/pub...            3.0.0   \n",
       "199771  {'$schema': 'https://json-schemas.lens.dev/pub...            3.0.0   \n",
       "199772  {'$schema': 'https://json-schemas.lens.dev/pub...            3.0.0   \n",
       "\n",
       "                                       content language region  \\\n",
       "193100                                    Test       en   None   \n",
       "193101                                    Test       en   None   \n",
       "193102                                    Test       en   None   \n",
       "193103                                    Test       en   None   \n",
       "193104                                    Test       en   None   \n",
       "193105                                    Test       en   None   \n",
       "193106                                    Test       en   None   \n",
       "193107                                    Test       en   None   \n",
       "193108                                     Wut       en   None   \n",
       "193109          Test[⁽¹⁾](https://example.com)       en   None   \n",
       "193110                                    Test       en   None   \n",
       "193111  Hello World![⁽¹⁾](https://example.com)       en   None   \n",
       "193112                            Hello World!       en   None   \n",
       "193113                                    Test       en   None   \n",
       "193114                                    Test       en   None   \n",
       "199767                                  Hello!       en   None   \n",
       "199768                                 Testing       en   None   \n",
       "199769                            Hello World!       en   None   \n",
       "199770                                  Helloa       en   None   \n",
       "199771                                    Heck       en   None   \n",
       "199772                                    asdf       en   None   \n",
       "\n",
       "       content_warning main_content_focus  \\\n",
       "193100            None        TRANSACTION   \n",
       "193101            None        TRANSACTION   \n",
       "193102            None        TRANSACTION   \n",
       "193103            None        TRANSACTION   \n",
       "193104            None        TRANSACTION   \n",
       "193105            None        TRANSACTION   \n",
       "193106            None        TRANSACTION   \n",
       "193107            None        TRANSACTION   \n",
       "193108            None        TRANSACTION   \n",
       "193109            None        TRANSACTION   \n",
       "193110            None        TRANSACTION   \n",
       "193111            None        TRANSACTION   \n",
       "193112            None        TRANSACTION   \n",
       "193113            None        TRANSACTION   \n",
       "193114            None        TRANSACTION   \n",
       "199767            None        TRANSACTION   \n",
       "199768            None        TRANSACTION   \n",
       "199769            None        TRANSACTION   \n",
       "199770            None        TRANSACTION   \n",
       "199771            None        TRANSACTION   \n",
       "199772            None        TRANSACTION   \n",
       "\n",
       "                                              tags_vector  hide_from_feed  \\\n",
       "193100  'chain:1' 'txn:2aRVBgAUCKC6Bg/TCDKcCiNxn7829Ob...           False   \n",
       "193101  'chain:1' 'txn:2aRVBgAUCKC6Bg/TCDKcCiNxn7829Ob...           False   \n",
       "193102  'chain:1' 'txn:2aRVBgAUCKC6Bg/TCDKcCiNxn7829Ob...           False   \n",
       "193103  'chain:1' 'txn:2aRVBgAUCKC6Bg/TCDKcCiNxn7829Ob...           False   \n",
       "193104  'chain:1' 'txn:2aRVBgAUCKC6Bg/TCDKcCiNxn7829Ob...           False   \n",
       "193105  'chain:1' 'txn:2aRVBgAUCKC6Bg/TCDKcCiNxn7829Ob...           False   \n",
       "193106  'chain:1' 'txn:2aRVBgAUCKC6Bg/TCDKcCiNxn7829Ob...           False   \n",
       "193107                                               None           False   \n",
       "193108  'chain:1' 'txn:2aRVBgAUCKC6Bg/TCDKcCiNxn7829Ob...           False   \n",
       "193109  'chain:1' 'txn:2aRVBgAUCKC6Bg/TCDKcCiNxn7829Ob...           False   \n",
       "193110  'chain:1' 'txn:2aRVBgAUCKC6Bg/TCDKcCiNxn7829Ob...           False   \n",
       "193111  'chain:1' 'txn:2aRVBgAUCKC6Bg/TCDKcCiNxn7829Ob...           False   \n",
       "193112  'chain:1' 'txn:2aRVBgAUCKC6Bg/TCDKcCiNxn7829Ob...           False   \n",
       "193113  'chain:1' 'txn:2aRVBgAUCKC6Bg/TCDKcCiNxn7829Ob...           False   \n",
       "193114                                               None           False   \n",
       "199767  'chain:1' 'txn:2aRVBgAUCKC6Bg/TCDKcCiNxn7829Ob...           False   \n",
       "199768                                               None           False   \n",
       "199769                                               None           False   \n",
       "199770  'chain:1' 'txn:2aRVBgAUCKC6Bg/TCDKcCiNxn7829Ob...           False   \n",
       "199771  'txn:2aRVBgAUCKC6Bg/TCDKcCiNxn7829Obg0kz8tgOGo...           False   \n",
       "199772                                               None           False   \n",
       "\n",
       "        is_encrypted         app tx_hash                 timestamp  \\\n",
       "193100         False  pob-studio    None 2024-08-21 06:00:36+00:00   \n",
       "193101         False  pob-studio    None 2024-08-21 06:12:50+00:00   \n",
       "193102         False  pob-studio    None 2024-08-21 06:15:38+00:00   \n",
       "193103         False  pob-studio    None 2024-08-21 06:17:20+00:00   \n",
       "193104         False  pob-studio    None 2024-08-21 06:26:40+00:00   \n",
       "193105         False  pob-studio    None 2024-08-21 06:15:06+00:00   \n",
       "193106         False  pob-studio    None 2024-08-21 06:29:40+00:00   \n",
       "193107         False  pob-studio    None 2024-08-19 01:44:30+00:00   \n",
       "193108         False  pob-studio    None 2024-08-20 21:08:26+00:00   \n",
       "193109         False  pob-studio    None 2024-08-19 20:28:17+00:00   \n",
       "193110         False  pob-studio    None 2024-08-21 06:14:04+00:00   \n",
       "193111         False  pob-studio    None 2024-08-19 21:05:37+00:00   \n",
       "193112         False  pob-studio    None 2024-08-19 18:02:17+00:00   \n",
       "193113         False  pob-studio    None 2024-08-21 06:06:04+00:00   \n",
       "193114         False  pob-studio    None 2024-08-19 01:42:10+00:00   \n",
       "199767         False  pob-studio    None 2024-08-20 20:25:57+00:00   \n",
       "199768         False  pob-studio    None 2024-08-19 01:49:52+00:00   \n",
       "199769         False  pob-studio    None 2024-08-19 17:16:26+00:00   \n",
       "199770         False  pob-studio    None 2024-08-20 23:43:22+00:00   \n",
       "199771         False  pob-studio    None 2024-08-19 17:35:33+00:00   \n",
       "199772         False  pob-studio    None 2024-08-19 01:54:04+00:00   \n",
       "\n",
       "                             created_at  \\\n",
       "193100 2024-08-21 06:00:39.018626+00:00   \n",
       "193101 2024-08-21 06:12:53.383297+00:00   \n",
       "193102 2024-08-21 06:15:40.974033+00:00   \n",
       "193103 2024-08-21 06:17:22.883425+00:00   \n",
       "193104 2024-08-21 06:26:42.906013+00:00   \n",
       "193105 2024-08-21 06:15:07.680407+00:00   \n",
       "193106 2024-08-21 06:29:43.181826+00:00   \n",
       "193107 2024-08-19 01:44:31.938946+00:00   \n",
       "193108 2024-08-20 21:08:27.577426+00:00   \n",
       "193109 2024-08-19 20:28:20.338186+00:00   \n",
       "193110 2024-08-21 06:14:06.257487+00:00   \n",
       "193111 2024-08-19 21:05:39.501079+00:00   \n",
       "193112 2024-08-19 18:02:19.583804+00:00   \n",
       "193113 2024-08-21 06:06:05.548520+00:00   \n",
       "193114 2024-08-19 01:42:11.971316+00:00   \n",
       "199767 2024-08-20 20:26:00.364515+00:00   \n",
       "199768 2024-08-19 01:49:54.872170+00:00   \n",
       "199769 2024-08-19 17:16:27.653530+00:00   \n",
       "199770 2024-08-20 23:43:24.987997+00:00   \n",
       "199771 2024-08-19 17:35:35.108922+00:00   \n",
       "199772 2024-08-19 01:54:07.123723+00:00   \n",
       "\n",
       "                                      datastream_metadata content_vector  \n",
       "193100  {'uuid': '589ac02d-b8a4-4ca3-adbf-dfce00000011...           None  \n",
       "193101  {'uuid': '1992afa4-e68a-47cc-ac1d-07df10100101...           None  \n",
       "193102  {'uuid': 'a6efa70e-496d-421f-8b73-2c3000101010...           None  \n",
       "193103  {'uuid': 'cee1a9d3-494f-42bf-ad51-5aad00001000...           None  \n",
       "193104  {'uuid': 'a858356f-f3b0-4db1-84ba-0fa111110010...           None  \n",
       "193105  {'uuid': 'd72fac5d-5dab-4f24-87d4-466901100110...           None  \n",
       "193106  {'uuid': '53e77545-8976-4fe1-affc-c44011111110...           None  \n",
       "193107  {'uuid': '137009a7-cc9b-4b3d-a580-ddc811001101...           None  \n",
       "193108  {'uuid': 'd626ad6e-17f1-4451-89d9-fc5501100111...           None  \n",
       "193109  {'uuid': '0e68e792-6ed0-41f1-b6f2-621b01100111...           None  \n",
       "193110  {'uuid': '625688ec-3738-4cd3-b92b-ca0d00110100...           None  \n",
       "193111  {'uuid': '09119820-279d-4553-b4c7-444510011101...           None  \n",
       "193112  {'uuid': 'c6b0dd0d-cec1-4796-b257-b8c701101110...           None  \n",
       "193113  {'uuid': '57c6c9b5-a7e8-4c00-99f7-446501001111...           None  \n",
       "193114  {'uuid': '49b7ef4a-2e30-4503-8c28-af2010000010...           None  \n",
       "199767  {'uuid': 'd575e70f-a350-4cee-96d5-80d611111000...           None  \n",
       "199768  {'uuid': 'ba4a1cd5-4e3e-46f1-98b6-605000011000...           None  \n",
       "199769  {'uuid': 'aa9855f5-4bdc-4b0d-91cc-b8ed11011010...           None  \n",
       "199770  {'uuid': '71495b32-3416-4fbd-86cd-879200010100...           None  \n",
       "199771  {'uuid': '86a00e86-b081-45f1-bfbe-fca611000001...           None  \n",
       "199772  {'uuid': '94654ad7-8b07-45ec-b6b2-483111110001...           None  "
      ]
     },
     "execution_count": 149,
     "metadata": {},
     "output_type": "execute_result"
    }
   ],
   "source": [
    "df[df['main_content_focus']=='TRANSACTION']"
   ]
  },
  {
   "cell_type": "code",
   "execution_count": 164,
   "id": "ee39681f-6efa-4899-a89e-7464627ac83e",
   "metadata": {
    "tags": []
   },
   "outputs": [
    {
     "data": {
      "text/plain": [
       "Timedelta('0 days 00:31:31.372575')"
      ]
     },
     "execution_count": 164,
     "metadata": {},
     "output_type": "execute_result"
    }
   ],
   "source": [
    "(df['created_at']-df['timestamp']).max()"
   ]
  },
  {
   "cell_type": "code",
   "execution_count": 161,
   "id": "97ae9ccf-2bfc-4022-add0-94c0904728ce",
   "metadata": {
    "tags": []
   },
   "outputs": [
    {
     "data": {
      "text/plain": [
       "0        2024-08-21 14:42:28.521160+00:00\n",
       "1        2024-08-21 14:41:47.672126+00:00\n",
       "2        2024-08-21 14:43:46.181902+00:00\n",
       "3        2024-08-21 14:41:55.535819+00:00\n",
       "4        2024-08-21 14:41:59.893266+00:00\n",
       "                       ...               \n",
       "285877   2024-08-18 02:08:18.960765+00:00\n",
       "285878   2024-08-18 23:22:30.936463+00:00\n",
       "285879   2024-08-18 19:02:32.047806+00:00\n",
       "285880   2024-08-21 04:38:48.590575+00:00\n",
       "285881   2024-08-13 05:11:23.940150+00:00\n",
       "Name: created_at, Length: 285882, dtype: datetime64[us, UTC]"
      ]
     },
     "execution_count": 161,
     "metadata": {},
     "output_type": "execute_result"
    }
   ],
   "source": []
  },
  {
   "cell_type": "code",
   "execution_count": 166,
   "id": "1d6f02fa-2c01-457a-b187-0cc341812dff",
   "metadata": {
    "tags": []
   },
   "outputs": [
    {
     "data": {
      "text/plain": [
       "array([{'uuid': '7c5507c4-5d43-4343-82c8-78a311101011', 'source_timestamp': 1724251348526},\n",
       "       {'uuid': '65eae92a-d594-47e8-bc4f-633801111100', 'source_timestamp': 1724251307676},\n",
       "       {'uuid': 'b0302ced-5aad-41c9-ae6f-e17b11110101', 'source_timestamp': 1724251426186},\n",
       "       ...,\n",
       "       {'uuid': 'cba6089e-af1c-4e96-82a0-dded10011010', 'source_timestamp': 1724007752053},\n",
       "       {'uuid': '8f5e7aa7-4938-4f06-952d-524900011100', 'source_timestamp': 1724215128610},\n",
       "       {'uuid': '7c141ebc-61df-46a5-a4e4-adc601100110', 'source_timestamp': 1723525883960}],\n",
       "      dtype=object)"
      ]
     },
     "execution_count": 166,
     "metadata": {},
     "output_type": "execute_result"
    }
   ],
   "source": [
    "df['datastream_metadata'].values"
   ]
  },
  {
   "cell_type": "code",
   "execution_count": 176,
   "id": "e5ec7ce2-9615-4b9d-896b-2ece246c9f42",
   "metadata": {
    "tags": []
   },
   "outputs": [
    {
     "data": {
      "text/plain": [
       "array([None], dtype=object)"
      ]
     },
     "execution_count": 176,
     "metadata": {},
     "output_type": "execute_result"
    }
   ],
   "source": [
    "df['content_vector'].unique()"
   ]
  }
 ],
 "metadata": {
  "kernelspec": {
   "display_name": "conda_pytorch_p310",
   "language": "python",
   "name": "conda_pytorch_p310"
  },
  "language_info": {
   "codemirror_mode": {
    "name": "ipython",
    "version": 3
   },
   "file_extension": ".py",
   "mimetype": "text/x-python",
   "name": "python",
   "nbconvert_exporter": "python",
   "pygments_lexer": "ipython3",
   "version": "3.10.14"
  }
 },
 "nbformat": 4,
 "nbformat_minor": 5
}
